{
  "nbformat": 4,
  "nbformat_minor": 0,
  "metadata": {
    "colab": {
      "provenance": []
    },
    "kernelspec": {
      "name": "python3",
      "display_name": "Python 3"
    },
    "language_info": {
      "name": "python"
    }
  },
  "cells": [
    {
      "cell_type": "code",
      "source": [
        "import cv2\n",
        "import numpy as np\n",
        "import os\n",
        "from skimage.metrics import structural_similarity as ssim\n",
        "\n",
        "# Load and preprocess images\n",
        "def preprocess_image(image_path):\n",
        "    image = cv2.imread(image_path, cv2.IMREAD_GRAYSCALE)\n",
        "    if image is None:\n",
        "        print(f\"Error: Unable to load image '{image_path}'\")\n",
        "        return None\n",
        "    image = cv2.resize(image, (400, 200))  # Resize to standard size\n",
        "    return image\n",
        "\n",
        "# Compare two images using SSIM\n",
        "def compare_images(image1, image2):\n",
        "    score, diff = ssim(image1, image2, full=True)\n",
        "    diff = (diff * 255).astype(\"uint8\")\n",
        "    return score, diff\n",
        "\n",
        "# Apply threshold and find contours\n",
        "def detect_fake_pan(diff):\n",
        "    _, thresh = cv2.threshold(diff, 50, 255, cv2.THRESH_BINARY)\n",
        "    contours, _ = cv2.findContours(thresh, cv2.RETR_EXTERNAL, cv2.CHAIN_APPROX_SIMPLE)\n",
        "    return len(contours) > 10  # If too many differences, likely fake\n",
        "\n",
        "# Load reference PAN card (original format)\n",
        "reference_image_path = 'ori.jpg'  # Path to the valid PAN card image\n",
        "if not os.path.exists(reference_image_path):\n",
        "    print(f\"Error: Reference image '{reference_image_path}' not found!\")\n",
        "    exit()\n",
        "\n",
        "reference_image = preprocess_image(reference_image_path)\n",
        "\n",
        "# Function to check each PAN card image\n",
        "def detect_pan_card(test_image_path):\n",
        "    test_image = preprocess_image(test_image_path)\n",
        "    if test_image is None:\n",
        "        return \"Error: Could not load image\", 0.0\n",
        "\n",
        "    score, diff = compare_images(reference_image, test_image)\n",
        "    result = \"Valid PAN Card\" if score > 0.75 and not detect_fake_pan(diff) else \"Fake PAN Card\"\n",
        "    return result, score\n",
        "\n",
        "# Manually input multiple image paths\n",
        "def process_selected_images():\n",
        "    image_paths = input(\"Enter the paths of the images (comma-separated): \").split(',')\n",
        "\n",
        "    if not image_paths:\n",
        "        print(\"No images provided.\")\n",
        "        return\n",
        "\n",
        "    for img_path in image_paths:\n",
        "        img_path = img_path.strip()  # Remove extra spaces\n",
        "        if not os.path.exists(img_path):\n",
        "            print(f\"Error: File '{img_path}' not found!\")\n",
        "            continue\n",
        "\n",
        "        result, score = detect_pan_card(img_path)\n",
        "        print(f\"Image: {os.path.basename(img_path)}\")\n",
        "        print(f\"SSIM Score: {score:.4f}\")\n",
        "        print(f\"Result: {result}\")\n",
        "        print(\"-\" * 40)\n",
        "\n",
        "# Run the program\n",
        "process_selected_images()\n"
      ],
      "metadata": {
        "colab": {
          "base_uri": "https://localhost:8080/"
        },
        "id": "qZJcL5g-ICY2",
        "outputId": "680da928-f68e-43d7-e838-7b6b3ae81eff"
      },
      "execution_count": 2,
      "outputs": [
        {
          "output_type": "stream",
          "name": "stdout",
          "text": [
            "Enter the paths of the images (comma-separated): 1.png, 2.png, 10.png, 11.png, ori.jpg\n",
            "Image: 1.png\n",
            "SSIM Score: 0.2789\n",
            "Result: Fake PAN Card\n",
            "----------------------------------------\n",
            "Image: 2.png\n",
            "SSIM Score: 0.3463\n",
            "Result: Fake PAN Card\n",
            "----------------------------------------\n",
            "Image: 10.png\n",
            "SSIM Score: 0.2908\n",
            "Result: Fake PAN Card\n",
            "----------------------------------------\n",
            "Image: 11.png\n",
            "SSIM Score: 0.2427\n",
            "Result: Fake PAN Card\n",
            "----------------------------------------\n",
            "Image: ori.jpg\n",
            "SSIM Score: 1.0000\n",
            "Result: Valid PAN Card\n",
            "----------------------------------------\n"
          ]
        }
      ]
    }
  ]
}