{
  "nbformat": 4,
  "nbformat_minor": 0,
  "metadata": {
    "colab": {
      "provenance": []
    },
    "kernelspec": {
      "name": "python3",
      "display_name": "Python 3"
    },
    "language_info": {
      "name": "python"
    }
  },
  "cells": [
    {
      "cell_type": "code",
      "execution_count": 19,
      "metadata": {
        "id": "lnB6zeTQDUtW"
      },
      "outputs": [],
      "source": [
        "import cv2\n",
        "import os\n",
        "import numpy as np\n",
        "from skimage.metrics import structural_similarity as ssim\n",
        "\n"
      ]
    },
    {
      "cell_type": "code",
      "source": [
        "# Load and preprocess images\n",
        "def preprocess_image(image_path):\n",
        "    image = cv2.imread(image_path, cv2.IMREAD_GRAYSCALE)\n",
        "    if image is None:\n",
        "        print(f\"Error loading image: {image_path}\")\n",
        "        return None\n",
        "    image = cv2.resize(image, (400, 200))  # Resize to standard size\n",
        "    return image\n"
      ],
      "metadata": {
        "id": "ZcGD-4diDWHR"
      },
      "execution_count": 20,
      "outputs": []
    },
    {
      "cell_type": "code",
      "source": [
        "from google.colab import drive\n",
        "drive.mount('/content/drive') # Mount to the default /content/drive directory first\n",
        "\n",
        "# Then you can access MyDrive\n",
        "import os\n",
        "image_folder_path = os.path.join('/content/drive/MyDrive', 'images-high-res')"
      ],
      "metadata": {
        "colab": {
          "base_uri": "https://localhost:8080/"
        },
        "id": "u_62Cc8zI9HD",
        "outputId": "f4aacfc4-beeb-4bdb-c4cb-9ee3fa354d3f"
      },
      "execution_count": 21,
      "outputs": [
        {
          "output_type": "stream",
          "name": "stdout",
          "text": [
            "Drive already mounted at /content/drive; to attempt to forcibly remount, call drive.mount(\"/content/drive\", force_remount=True).\n"
          ]
        }
      ]
    },
    {
      "cell_type": "code",
      "source": [
        "!cp -r \"/content/drive/My Drive/images-high-res\" /content/"
      ],
      "metadata": {
        "id": "QIwy1WMHLzbB"
      },
      "execution_count": 24,
      "outputs": []
    },
    {
      "cell_type": "code",
      "source": [
        "\n",
        "# Compare two images using SSIM\n",
        "def compare_images(image1, image2):\n",
        "    score, diff = ssim(image1, image2, full=True)\n",
        "    diff = (diff * 255).astype(\"uint8\")\n",
        "    return score, diff\n",
        "\n",
        "# Apply threshold and find contours\n",
        "def detect_fake_pan(diff):\n",
        "    _, thresh = cv2.threshold(diff, 50, 255, cv2.THRESH_BINARY)\n",
        "    contours, _ = cv2.findContours(thresh, cv2.RETR_EXTERNAL, cv2.CHAIN_APPROX_SIMPLE)\n",
        "    return len(contours) > 10  # If too many differences, likely fake\n",
        "\n",
        "# Check if an image is tampered\n",
        "def check_tampered_image(test_image_path, reference_image):\n",
        "    test_image = preprocess_image(test_image_path)\n",
        "    if test_image is None:\n",
        "        return None, \"Error loading image\"\n",
        "\n",
        "    score, diff = compare_images(reference_image, test_image)\n",
        "    result = \"Original\" if score >= 0.9 else \"Tampered\"\n",
        "\n",
        "    return score, result\n",
        "\n",
        "# Process a folder containing PAN card images\n",
        "def process_pan_folder(folder_path, reference_image_path):\n",
        "    if not os.path.exists(folder_path):\n",
        "        print(f\"Error: Folder '{folder_path}' not found!\")\n",
        "        return\n",
        "\n",
        "    reference_image = preprocess_image(reference_image_path)\n",
        "    if reference_image is None:\n",
        "        print(\"Error: Could not load reference PAN card image.\")\n",
        "        return\n",
        "\n",
        "    print(f\"\\nProcessing images in folder: {folder_path}\\n\")\n",
        "\n",
        "    for filename in os.listdir(folder_path):\n",
        "        file_path = os.path.join(folder_path, filename)\n",
        "\n",
        "        if filename.lower().endswith(('.jpg', '.jpeg', '.png')):  # Process only image files\n",
        "            score, result = check_tampered_image(file_path, reference_image)\n",
        "            if score is not None:\n",
        "                print(f\"Image: {filename} | SSIM Score: {score:.2f} | Result: {result}\")\n",
        "\n",
        "# Path to the folder containing PAN card images\n",
        "test_folder = r'/content/drive/MyDrive/images-high-res' # Change to your actual folder path\n",
        "reference_image_path = \"original.jpg\"  # Reference PAN card\n",
        "\n",
        "# Run the processing function\n",
        "process_pan_folder(test_folder, reference_image_path)"
      ],
      "metadata": {
        "colab": {
          "base_uri": "https://localhost:8080/"
        },
        "id": "obqgOV6ZDrvo",
        "outputId": "84fca142-fd4e-4a77-e5ac-18a99b4442e5"
      },
      "execution_count": 26,
      "outputs": [
        {
          "output_type": "stream",
          "name": "stdout",
          "text": [
            "\n",
            "Processing images in folder: /content/drive/MyDrive/images-high-res\n",
            "\n",
            "Image: 16.png | SSIM Score: 0.25 | Result: Tampered\n",
            "Image: 12.png | SSIM Score: 0.25 | Result: Tampered\n",
            "Image: 11.png | SSIM Score: 0.24 | Result: Tampered\n",
            "Image: 1.png | SSIM Score: 0.28 | Result: Tampered\n",
            "Image: 10.png | SSIM Score: 0.29 | Result: Tampered\n",
            "Image: 4.png | SSIM Score: 0.23 | Result: Tampered\n",
            "Image: 31.png | SSIM Score: 0.25 | Result: Tampered\n",
            "Image: 3.png | SSIM Score: 0.10 | Result: Tampered\n",
            "Image: 29.png | SSIM Score: 0.12 | Result: Tampered\n",
            "Image: 27.png | SSIM Score: 0.16 | Result: Tampered\n",
            "Image: 28.png | SSIM Score: 0.20 | Result: Tampered\n",
            "Image: 2.png | SSIM Score: 0.35 | Result: Tampered\n",
            "Image: 23.png | SSIM Score: 0.13 | Result: Tampered\n",
            "Image: 22.png | SSIM Score: 0.24 | Result: Tampered\n",
            "Image: 24.png | SSIM Score: 0.28 | Result: Tampered\n",
            "Image: 25.png | SSIM Score: 0.26 | Result: Tampered\n",
            "Image: 26.png | SSIM Score: 0.33 | Result: Tampered\n",
            "Image: 19.png | SSIM Score: 0.29 | Result: Tampered\n",
            "Image: 21.png | SSIM Score: 0.20 | Result: Tampered\n",
            "Image: 20.png | SSIM Score: 0.23 | Result: Tampered\n",
            "Image: 18.png | SSIM Score: 0.24 | Result: Tampered\n",
            "Image: 17.png | SSIM Score: 0.31 | Result: Tampered\n",
            "Image: 13.png | SSIM Score: 0.33 | Result: Tampered\n",
            "Image: 14.png | SSIM Score: 0.21 | Result: Tampered\n",
            "Image: 15.png | SSIM Score: 0.34 | Result: Tampered\n",
            "Image: 9.png | SSIM Score: 0.20 | Result: Tampered\n",
            "Image: 8.png | SSIM Score: 0.25 | Result: Tampered\n",
            "Image: 5.png | SSIM Score: 0.33 | Result: Tampered\n",
            "Image: 7.png | SSIM Score: 0.26 | Result: Tampered\n",
            "Image: 6.png | SSIM Score: 0.25 | Result: Tampered\n",
            "Image: 30.png | SSIM Score: 0.27 | Result: Tampered\n"
          ]
        }
      ]
    }
  ]
}